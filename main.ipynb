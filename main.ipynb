{
 "cells": [
  {
   "cell_type": "markdown",
   "metadata": {},
   "source": [
    "#### Imports"
   ]
  },
  {
   "cell_type": "code",
   "execution_count": 3,
   "metadata": {},
   "outputs": [],
   "source": [
    "import os\n",
    "import random\n",
    "\n",
    "import numpy as np\n",
    "import cv2 as cv\n",
    "\n",
    "import torch\n",
    "import torch.nn as nn\n",
    "import torch.optim as optim\n",
    "from torch.utils.data import Dataset, DataLoader\n",
    "\n",
    "from model.load_model import load_model"
   ]
  },
  {
   "cell_type": "markdown",
   "metadata": {},
   "source": [
    "#### Variables"
   ]
  },
  {
   "cell_type": "code",
   "execution_count": 4,
   "metadata": {},
   "outputs": [],
   "source": [
    "train_data_path = 'data/train/'\n",
    "test_data_path = 'data/test/'\n",
    "image_size = 224"
   ]
  },
  {
   "cell_type": "markdown",
   "metadata": {},
   "source": [
    "#### Dataset definition"
   ]
  },
  {
   "cell_type": "code",
   "execution_count": 33,
   "metadata": {},
   "outputs": [],
   "source": [
    "class HotdogDataset(Dataset):\n",
    "    def __init__(self, data_path: str) -> None:\n",
    "        data = []\n",
    "        current_folder = os.path.join(data_path, 'hotdog')\n",
    "        for file_path in os.listdir(current_folder):\n",
    "            data.append([file_path, 1])  # 1 for being hotdog\n",
    "        \n",
    "        current_folder = os.path.join(data_path, 'nothotdog')\n",
    "        for file_path in os.listdir(current_folder):\n",
    "            data.append([file_path, 0])\n",
    "        \n",
    "        self.data = np.asarray(data)\n",
    "        np.random.shuffle(self.data)\n",
    "        self._n_samples = len(data)\n",
    "    \n",
    "    def __len__(self) -> int:\n",
    "        return self._n_samples\n",
    "    \n",
    "    def __getitem__(self, idx: int) -> tuple:\n",
    "        image, label = self.data[idx]\n",
    "        image = cv.imread(image)\n",
    "        image = cv.cvtColor(image, cv.COLOR_BGR2RGB)\n",
    "        image = cv.resize(image, (image_size, image_size))\n",
    "        image = np.moveaxis(image, 2, 0)\n",
    "\n",
    "        return image, label"
   ]
  },
  {
   "cell_type": "markdown",
   "metadata": {},
   "source": [
    "#### DataLoaders"
   ]
  },
  {
   "cell_type": "code",
   "execution_count": 34,
   "metadata": {},
   "outputs": [],
   "source": [
    "train_dataloader = DataLoader(HotdogDataset(train_data_path), batch_size=32, shuffle=True)\n",
    "test_dataloader = DataLoader(HotdogDataset(test_data_path), batch_size=32, shuffle=True)"
   ]
  },
  {
   "cell_type": "markdown",
   "metadata": {},
   "source": [
    "#### Model loading"
   ]
  },
  {
   "cell_type": "code",
   "execution_count": 35,
   "metadata": {},
   "outputs": [],
   "source": [
    "model_params = {\n",
    "    'model_ver': 4,\n",
    "    'in_channels': 3,\n",
    "    'image_size': image_size,\n",
    "    'num_classes': 2,\n",
    "    'block_types': ['C', 'C', 'T', 'T'],\n",
    "}\n",
    "\n",
    "model = load_model(**model_params)"
   ]
  }
 ],
 "metadata": {
  "kernelspec": {
   "display_name": "Python 3.10.6 ('general')",
   "language": "python",
   "name": "python3"
  },
  "language_info": {
   "codemirror_mode": {
    "name": "ipython",
    "version": 3
   },
   "file_extension": ".py",
   "mimetype": "text/x-python",
   "name": "python",
   "nbconvert_exporter": "python",
   "pygments_lexer": "ipython3",
   "version": "3.10.6"
  },
  "orig_nbformat": 4,
  "vscode": {
   "interpreter": {
    "hash": "93ba80db7eb8e04daf07a178422352a6b14caa6745ec1876f663cbafebefbfa2"
   }
  }
 },
 "nbformat": 4,
 "nbformat_minor": 2
}
